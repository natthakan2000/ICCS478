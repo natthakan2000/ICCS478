{
 "cells": [
  {
   "cell_type": "code",
   "execution_count": 262,
   "metadata": {},
   "outputs": [],
   "source": [
    "import numpy as np\n",
    "import pandas as pd\n",
    "from scipy.special import expit\n",
    "from matplotlib import pyplot as plt\n",
    "import keyword\n",
    "from sklearn.model_selection import train_test_split\n",
    "from sklearn import datasets, linear_model\n",
    "from sklearn.multiclass import OneVsRestClassifier\n",
    "from sklearn.svm import LinearSVC\n",
    "import math\n",
    "from scipy.special import logit\n",
    "import matplotlib.image as mpimg"
   ]
  },
  {
   "cell_type": "markdown",
   "metadata": {},
   "source": [
    "# Rule\n",
    "\n",
    "- Open everything.\n",
    "- No communication with anyone (both inside/outside the class) regarding exam.\n",
    "- You will be graded out of 90% of the actual full score.\n",
    "- Due at Midnight."
   ]
  },
  {
   "cell_type": "markdown",
   "metadata": {},
   "source": [
    "# Problem 1 Bayes\n",
    "\n",
    "The features is given in array `xs` (first column $x_1$ and second column $x_2$) and the classes are given in array `ys`. Answer the following questions.\n",
    "\n",
    "Assuming that we are using gaussian assumption for `P(1|each feature=x)`"
   ]
  },
  {
   "cell_type": "code",
   "execution_count": 74,
   "metadata": {},
   "outputs": [],
   "source": [
    "np.random.seed(311)\n",
    "n_data_1 = 20\n",
    "n_data_2 = 30\n",
    "a1 = np.random.randn(n_data_1)*2 + 5\n",
    "a2 = np.random.randn(n_data_2)*3 + 7\n",
    "\n",
    "b1 = np.random.randn(n_data_1) + 4\n",
    "b2 = np.random.randn(n_data_2)*2 + 2\n",
    "\n",
    "aa = np.hstack([a1, a2])\n",
    "bb = np.hstack([b1, b2])\n",
    "\n",
    "xs = np.vstack([aa, bb]).T\n",
    "\n",
    "ys = np.array([0]*n_data_1 + [1]*n_data_2)"
   ]
  },
  {
   "cell_type": "markdown",
   "metadata": {},
   "source": [
    "## Question (15)\n",
    "From the data, find $P(1)$."
   ]
  },
  {
   "cell_type": "code",
   "execution_count": 75,
   "metadata": {},
   "outputs": [
    {
     "name": "stdout",
     "output_type": "stream",
     "text": [
      "0.6\n"
     ]
    }
   ],
   "source": [
    "counterOne = 0\n",
    "for i in range(len(ys)):\n",
    "    if (ys[i] == 1):\n",
    "        counterOne += 1\n",
    "prob = counterOne/len(ys)\n",
    "print(prob)"
   ]
  },
  {
   "cell_type": "markdown",
   "metadata": {},
   "source": [
    "## Question (15)\n",
    "From the data, find $P(x_1>5)$"
   ]
  },
  {
   "cell_type": "code",
   "execution_count": 76,
   "metadata": {},
   "outputs": [
    {
     "name": "stdout",
     "output_type": "stream",
     "text": [
      "0.58\n"
     ]
    }
   ],
   "source": [
    "counterTwo = 0;\n",
    "for i in range(len(xs)):\n",
    "    if (xs[i][0] > 5):\n",
    "        counterTwo += 1;\n",
    "prob = counterTwo/len(xs)\n",
    "print(prob)"
   ]
  },
  {
   "cell_type": "markdown",
   "metadata": {},
   "source": [
    "## Question (15)\n",
    "\n",
    "From the data. Find $P(y=1 | x_1 > 5)$"
   ]
  },
  {
   "cell_type": "code",
   "execution_count": 77,
   "metadata": {},
   "outputs": [
    {
     "name": "stdout",
     "output_type": "stream",
     "text": [
      "0.7931034482758621\n"
     ]
    }
   ],
   "source": [
    "counterX = 0;\n",
    "counterThree = 0;\n",
    "temp = []\n",
    "for j in range(len(xs)):\n",
    "    if (xs[j][0] > 5):\n",
    "        temp.append(j)\n",
    "for k in range(len(temp)):\n",
    "    index = temp[k]\n",
    "    if ys[index] == 1:\n",
    "        counterThree += 1\n",
    "for i in range(len(xs)):\n",
    "    if (xs[i][0]) > 5:\n",
    "        counterX += 1\n",
    "prob = counterThree/counterX\n",
    "print(prob)"
   ]
  },
  {
   "cell_type": "markdown",
   "metadata": {},
   "source": [
    "## Question (15)\n",
    "From the data. Find $P(x_1 > 2 | y=1)$"
   ]
  },
  {
   "cell_type": "code",
   "execution_count": 78,
   "metadata": {},
   "outputs": [
    {
     "name": "stdout",
     "output_type": "stream",
     "text": [
      "0.9333333333333333\n"
     ]
    }
   ],
   "source": [
    "counterFour = 0\n",
    "counterFive = 0\n",
    "for i in range(len(ys)):\n",
    "    if (ys[i] == 1):\n",
    "        counterFour += 1\n",
    "for j in range(len(xs)):\n",
    "    if (ys[j] == 1 and xs[j][0] > 2):\n",
    "        counterFive += 1\n",
    "prob = counterFive/counterFour\n",
    "print(prob)"
   ]
  },
  {
   "cell_type": "code",
   "execution_count": 79,
   "metadata": {},
   "outputs": [
    {
     "name": "stdout",
     "output_type": "stream",
     "text": [
      "[[ 0.60593656  3.73056453]\n",
      " [ 1.698012    5.51549274]\n",
      " [ 4.493042    4.0071221 ]\n",
      " [ 8.41199195  3.60069142]\n",
      " [ 5.89480121  6.0485964 ]\n",
      " [ 2.59391214  3.30152479]\n",
      " [ 3.7992417   3.33327546]\n",
      " [ 1.55655171  3.70992697]\n",
      " [ 3.96573858  1.53014866]\n",
      " [ 6.08794357  2.89789767]\n",
      " [ 9.20699654  4.09440905]\n",
      " [ 6.25598544  1.70916875]\n",
      " [ 4.40348076  2.83279216]\n",
      " [ 4.3729672   2.76796833]\n",
      " [ 3.50413001  2.69611853]\n",
      " [ 3.94712191  4.23626243]\n",
      " [ 2.01148364  4.51832634]\n",
      " [ 4.59121885  3.49707836]\n",
      " [ 1.46307982  4.11815556]\n",
      " [ 5.86907752  2.72806862]\n",
      " [ 4.66336204  2.2872338 ]\n",
      " [ 5.31305453 -1.59504911]\n",
      " [ 4.20984727  4.06243403]\n",
      " [ 8.49078533  3.2767299 ]\n",
      " [ 6.79419151  1.97762919]\n",
      " [13.57041181 -0.10462165]\n",
      " [ 9.85240107  0.90387076]\n",
      " [ 3.92904283  2.45027906]\n",
      " [ 5.91580497  4.5731907 ]\n",
      " [ 9.42428591  4.77497842]\n",
      " [ 9.6859391   1.38512923]\n",
      " [ 6.53340828  0.93678101]\n",
      " [ 7.97647314  1.97528359]\n",
      " [ 3.75884099  4.36774238]\n",
      " [ 8.79747482  3.06751117]\n",
      " [ 7.35143421  2.62384903]\n",
      " [-0.56834115  1.48727543]\n",
      " [ 9.29336155 -5.05280426]\n",
      " [ 1.57533128  0.65469684]\n",
      " [10.29734276  4.20536341]\n",
      " [ 5.10135619  0.80294583]\n",
      " [ 9.06499589  0.93521636]\n",
      " [ 4.01615286  4.09420985]\n",
      " [ 5.95559363  0.46356894]\n",
      " [ 8.48239736  1.82529376]\n",
      " [ 8.62210385  4.00008553]\n",
      " [ 9.02536735  2.0690577 ]\n",
      " [ 9.53616113  2.27321273]\n",
      " [ 7.62078959  4.31322324]\n",
      " [ 6.64036341  0.0347111 ]]\n",
      "[0 0 0 0 0 0 0 0 0 0 0 0 0 0 0 0 0 0 0 0 1 1 1 1 1 1 1 1 1 1 1 1 1 1 1 1 1\n",
      " 1 1 1 1 1 1 1 1 1 1 1 1 1]\n"
     ]
    }
   ],
   "source": [
    "print(xs)\n",
    "print(ys)"
   ]
  },
  {
   "cell_type": "markdown",
   "metadata": {},
   "source": [
    "## Question (40)"
   ]
  },
  {
   "cell_type": "markdown",
   "metadata": {},
   "source": [
    "Assuming gaussian distribution assumption and the same prior as the data.\n",
    "\n",
    "Find $P(y=1|x_1=2, x_2=3)$"
   ]
  },
  {
   "cell_type": "code",
   "execution_count": 80,
   "metadata": {},
   "outputs": [
    {
     "name": "stdout",
     "output_type": "stream",
     "text": [
      "0\n"
     ]
    }
   ],
   "source": [
    "# counterSix = 0\n",
    "# for i in range(len(ys)):\n",
    "#     if (ys[i] == 1):\n",
    "#         counterSix += 1\n",
    "# probY = counterSix/len(ys)\n",
    "# counterSeven = 0\n",
    "# for j in range(len(xs)):\n",
    "#     if (ys[j] == xs[j][0] == 2):\n",
    "#         counterSeven += 1\n",
    "# probOne = counterSeven/counterSix\n",
    "# counterEight = 0\n",
    "# for k in range(len(xs)):\n",
    "#     if (ys[k] == 1 and xs[k][1] == 3):\n",
    "#         counterEight += 1\n",
    "# probTwo = counterEight/counterSix\n",
    "print(0)"
   ]
  },
  {
   "cell_type": "markdown",
   "metadata": {},
   "source": [
    "# Logistics"
   ]
  },
  {
   "cell_type": "markdown",
   "metadata": {},
   "source": [
    "## Question(30)\n",
    "\n",
    "Consider a classification problem of rich vs poor neighborhood. One very important feature is the zipcode(10400, 10700, 73710 etc.). Someone suggest that you can incorporate the zip code into logistic regression like\n",
    "\n",
    "$$\n",
    "P(rich|\\vec{x}) = \\theta(z)\n",
    "$$\n",
    "\n",
    "where $z = w_0 + w_1 \\times zipcode + w_2 \\times \\text{other features} + \\ldots$.\n",
    "\n",
    "In 100 words or less(lesser = better), explain why this method is wrong and suggest a better one."
   ]
  },
  {
   "cell_type": "code",
   "execution_count": null,
   "metadata": {},
   "outputs": [],
   "source": [
    "#zip code is important, if doing this only w1 would contain zipcode\n",
    "#time zipcode after summing all the value"
   ]
  },
  {
   "cell_type": "markdown",
   "metadata": {},
   "source": [
    "## Question(40)"
   ]
  },
  {
   "cell_type": "markdown",
   "metadata": {},
   "source": [
    "Suppose that we are using linear logistic model.\n",
    "$$\n",
    "    P(y=1 | \\vec{x}) = \\frac{1}{1+\\exp(-\\vec{w}\\cdot\\vec{x})}\n",
    "$$\n",
    "\n",
    "Given these two data points which $\\vec{w}$ is better in terms of likelihood?\n",
    "\n",
    "*Data (padded)*\n",
    "- $\\vec{x} = (1,2,3)$, $y=1$\n",
    "- $\\vec{x} = (1,3,4)$, $y=-1$\n",
    "\n",
    "*Weights*\n",
    "- $\\vec{w_1} = (-1,-1,1)$\n",
    "- $\\vec{w_2} = (-2,-2,2)$"
   ]
  },
  {
   "cell_type": "code",
   "execution_count": 193,
   "metadata": {},
   "outputs": [
    {
     "name": "stdout",
     "output_type": "stream",
     "text": [
      "0.25\n",
      "0.25\n"
     ]
    }
   ],
   "source": [
    "#the likelihood are the same\n",
    "wOne = [-1,-1,1]\n",
    "wTwo = [-2,-2,2]\n",
    "def theta(s):\n",
    "    return 1.0/(1.0 + np.exp(-s))\n",
    "x1 = [1, 2, 3]\n",
    "x2 = [1, 3, 4]\n",
    "y1 = 1\n",
    "y2 = -1\n",
    "def p_one_minus_one(w,x,y):\n",
    "    s = np.dot(w, x)\n",
    "    return theta(y*s)\n",
    "likelihoodOne = p_one_minus_one(wOne,x1,y1)*p_one_minus_one(wOne,x2,y2)\n",
    "print(likelihoodOne)\n",
    "likelihoodTwo = p_one_minus_one(wTwo,x1,y1)*p_one_minus_one(wTwo,x2,y2)\n",
    "print(likelihoodTwo)"
   ]
  },
  {
   "cell_type": "markdown",
   "metadata": {},
   "source": [
    "## Question(30)\n",
    "\n",
    "With the data given in 2.2. Find the actual best weight vector."
   ]
  },
  {
   "cell_type": "code",
   "execution_count": 209,
   "metadata": {},
   "outputs": [
    {
     "ename": "NameError",
     "evalue": "name 'minimize' is not defined",
     "output_type": "error",
     "traceback": [
      "\u001b[0;31m---------------------------------------------------------------------------\u001b[0m",
      "\u001b[0;31mNameError\u001b[0m                                 Traceback (most recent call last)",
      "\u001b[0;32m<ipython-input-209-cc7cfa7c14c6>\u001b[0m in \u001b[0;36m<module>\u001b[0;34m\u001b[0m\n\u001b[1;32m      5\u001b[0m \u001b[0;32mdef\u001b[0m \u001b[0mcostPog\u001b[0m\u001b[0;34m(\u001b[0m\u001b[0mw\u001b[0m\u001b[0;34m)\u001b[0m\u001b[0;34m:\u001b[0m\u001b[0;34m\u001b[0m\u001b[0;34m\u001b[0m\u001b[0m\n\u001b[1;32m      6\u001b[0m     \u001b[0;32mreturn\u001b[0m \u001b[0;34m-\u001b[0m\u001b[0mnp\u001b[0m\u001b[0;34m.\u001b[0m\u001b[0msum\u001b[0m\u001b[0;34m(\u001b[0m\u001b[0mnp\u001b[0m\u001b[0;34m.\u001b[0m\u001b[0mlog\u001b[0m\u001b[0;34m(\u001b[0m\u001b[0mexpit\u001b[0m\u001b[0;34m(\u001b[0m\u001b[0mys\u001b[0m\u001b[0;34m*\u001b[0m\u001b[0mnp\u001b[0m\u001b[0;34m.\u001b[0m\u001b[0mdot\u001b[0m\u001b[0;34m(\u001b[0m\u001b[0mnpSorted_df\u001b[0m\u001b[0;34m,\u001b[0m \u001b[0mw\u001b[0m\u001b[0;34m)\u001b[0m\u001b[0;34m)\u001b[0m\u001b[0;34m)\u001b[0m\u001b[0;34m)\u001b[0m\u001b[0;34m\u001b[0m\u001b[0;34m\u001b[0m\u001b[0m\n\u001b[0;32m----> 7\u001b[0;31m \u001b[0mres\u001b[0m \u001b[0;34m=\u001b[0m \u001b[0mminimize\u001b[0m\u001b[0;34m(\u001b[0m\u001b[0mcostPog\u001b[0m\u001b[0;34m,\u001b[0m \u001b[0;34m[\u001b[0m\u001b[0;36m1\u001b[0m\u001b[0;34m,\u001b[0m\u001b[0;36m2\u001b[0m\u001b[0;34m,\u001b[0m\u001b[0;36m3\u001b[0m\u001b[0;34m,\u001b[0m\u001b[0;36m4\u001b[0m\u001b[0;34m,\u001b[0m\u001b[0;36m5\u001b[0m\u001b[0;34m,\u001b[0m\u001b[0;36m6\u001b[0m\u001b[0;34m]\u001b[0m\u001b[0;34m)\u001b[0m\u001b[0;34m\u001b[0m\u001b[0;34m\u001b[0m\u001b[0m\n\u001b[0m\u001b[1;32m      8\u001b[0m \u001b[0mbest_w\u001b[0m \u001b[0;34m=\u001b[0m \u001b[0mres\u001b[0m\u001b[0;34m.\u001b[0m\u001b[0mx\u001b[0m\u001b[0;34m\u001b[0m\u001b[0;34m\u001b[0m\u001b[0m\n\u001b[1;32m      9\u001b[0m \u001b[0mbest_w\u001b[0m\u001b[0;34m\u001b[0m\u001b[0;34m\u001b[0m\u001b[0m\n",
      "\u001b[0;31mNameError\u001b[0m: name 'minimize' is not defined"
     ]
    }
   ],
   "source": []
  },
  {
   "cell_type": "markdown",
   "metadata": {},
   "source": [
    "## Question (30)\n",
    "\n",
    "Consider the following data.\n",
    "\n",
    "\n",
    "<img src=\"q2.3.png\"/>\n",
    "\n",
    "A Junior data scientist suggest that you can separate two classes by\n",
    "\n",
    "$$\n",
    "    P(y=1|\\vec{x}) = \\theta(w_0 + w_1 \\times x_1 + w_2 \\times x_2)\n",
    "$$\n",
    "\n",
    "Tell him why doing that is a bad idea and suggest a better approach. Under 100 words. Please keep it short."
   ]
  },
  {
   "cell_type": "code",
   "execution_count": null,
   "metadata": {},
   "outputs": [],
   "source": []
  },
  {
   "cell_type": "markdown",
   "metadata": {},
   "source": [
    "# Regularization"
   ]
  },
  {
   "cell_type": "markdown",
   "metadata": {},
   "source": [
    "## Question (25)\n",
    "Sketch $E_{in}$ and $E_{out}$ vs Model Complexity.\n",
    "\n",
    "Indicate where the model is overfitting and under fitting and where the sweet spot is. Upload pdf pic of it."
   ]
  },
  {
   "cell_type": "code",
   "execution_count": 264,
   "metadata": {},
   "outputs": [
    {
     "data": {
      "image/png": "[encoded data removed]",
      "text/plain": [
       "<Figure size 432x288 with 1 Axes>"
      ]
     },
     "metadata": {
      "needs_background": "light"
     },
     "output_type": "display_data"
    }
   ],
   "source": [
    "image = mpimg.imread('yo.jpg')\n",
    "plt.imshow(image)\n",
    "plt.show()"
   ]
  },
  {
   "cell_type": "markdown",
   "metadata": {},
   "source": [
    "## Question (25)\n",
    "\n",
    "Consider the followin ROC curve from an **overfitted** model (in blue) on a **training** data.\n",
    "\n",
    "If we start regularizing it, will the regularized model's ROC curve on **training** data go in the red or green direction.\n",
    "\n",
    "Justify your answer. Answer with no justification will receive no credit."
   ]
  },
  {
   "cell_type": "code",
   "execution_count": 81,
   "metadata": {},
   "outputs": [
    {
     "data": {
      "image/png": "[encoded data removed]",
      "text/plain": [
       "<Figure size 432x288 with 1 Axes>"
      ]
     },
     "metadata": {
      "needs_background": "light"
     },
     "output_type": "display_data"
    }
   ],
   "source": [
    "xs = np.linspace(0,1,100)\n",
    "plt.plot(xs, xs**0.1, 'blue')\n",
    "plt.plot(xs, xs**0.2, 'green')\n",
    "plt.plot(xs, xs**0.05, 'red')\n",
    "plt.xlabel('False Positive Rate')\n",
    "plt.ylabel('True Positive Rate')\n",
    "plt.grid()"
   ]
  },
  {
   "cell_type": "code",
   "execution_count": null,
   "metadata": {},
   "outputs": [],
   "source": [
    "#green: less area than red, training data has lower true positive rate"
   ]
  },
  {
   "cell_type": "markdown",
   "metadata": {},
   "source": [
    "## Question (25)\n",
    "\n",
    "Consider the followin ROC curve from an **overfitted** model (in blue) on a **testing** data.\n",
    "\n",
    "If we start regularizing it, will the regularized model's roc curve on **testing** data go in the red or green direction.\n",
    "\n",
    "Justify your answer. Answer with no justification will receive no credit."
   ]
  },
  {
   "cell_type": "code",
   "execution_count": 47,
   "metadata": {},
   "outputs": [
    {
     "data": {
      "image/png": "[encoded data removed]",
      "text/plain": [
       "<Figure size 432x288 with 1 Axes>"
      ]
     },
     "metadata": {
      "needs_background": "light"
     },
     "output_type": "display_data"
    }
   ],
   "source": [
    "xs = np.linspace(0,1,100)\n",
    "plt.plot(xs, xs**0.1, 'blue')\n",
    "plt.plot(xs, xs**0.2, 'green')\n",
    "plt.plot(xs, xs**0.05, 'red')\n",
    "plt.xlabel('False Positive Rate')\n",
    "plt.ylabel('True Positive Rate')\n",
    "plt.grid()"
   ]
  },
  {
   "cell_type": "code",
   "execution_count": null,
   "metadata": {},
   "outputs": [],
   "source": [
    "#red: better, larger area, nearer to one, greater high positive rate"
   ]
  },
  {
   "cell_type": "markdown",
   "metadata": {},
   "source": [
    "# Multiclass Problem (100)"
   ]
  },
  {
   "cell_type": "markdown",
   "metadata": {},
   "source": [
    "Consider the data given in `IRIS.csv`. You goal is to build a model to classify the flower into three species based on the features given and report the performance.\n",
    "\n",
    "Perform the following task.\n",
    "\n",
    "1. Separate the data in to train and test at approximately 70-30 ratio (10)\n",
    "1. With one vs all strategy. Train three *linear* logistic classifier on training data set. (50)\n",
    "1. Find confusion matrix on the test data set. (40)\n",
    "\n",
    "Note:\n",
    "\n",
    "Use scikit-learn if you like. This is meant to be a free problem.\n",
    "\n",
    "Data taken from. You may even find some example there.\n",
    "https://www.kaggle.com/arshid/iris-flower-dataset/data#\n"
   ]
  },
  {
   "cell_type": "code",
   "execution_count": 90,
   "metadata": {},
   "outputs": [],
   "source": [
    "df = pd.read_csv('IRIS.csv')\n",
    "df.columns = df.columns \\\n",
    "    .str.strip() \\\n",
    "    .str.lower() \\\n",
    "    .str.replace(' ', '_') \\\n",
    "    .str.replace('(', '') \\\n",
    "    .str.replace(')', '') \\\n",
    "    .str.replace('-','_') \\\n",
    "    .map(lambda x: 'x'+x if x in keyword.kwlist else x )"
   ]
  },
  {
   "cell_type": "code",
   "execution_count": 91,
   "metadata": {},
   "outputs": [
    {
     "data": {
      "text/html": [
       "<div>\n",
       "<style scoped>\n",
       "    .dataframe tbody tr th:only-of-type {\n",
       "        vertical-align: middle;\n",
       "    }\n",
       "\n",
       "    .dataframe tbody tr th {\n",
       "        vertical-align: top;\n",
       "    }\n",
       "\n",
       "    .dataframe thead th {\n",
       "        text-align: right;\n",
       "    }\n",
       "</style>\n",
       "<table border=\"1\" class=\"dataframe\">\n",
       "  <thead>\n",
       "    <tr style=\"text-align: right;\">\n",
       "      <th></th>\n",
       "      <th>sepal_length</th>\n",
       "      <th>sepal_width</th>\n",
       "      <th>petal_length</th>\n",
       "      <th>petal_width</th>\n",
       "      <th>species</th>\n",
       "    </tr>\n",
       "  </thead>\n",
       "  <tbody>\n",
       "    <tr>\n",
       "      <th>0</th>\n",
       "      <td>5.1</td>\n",
       "      <td>3.5</td>\n",
       "      <td>1.4</td>\n",
       "      <td>0.2</td>\n",
       "      <td>Iris-setosa</td>\n",
       "    </tr>\n",
       "    <tr>\n",
       "      <th>1</th>\n",
       "      <td>4.9</td>\n",
       "      <td>3.0</td>\n",
       "      <td>1.4</td>\n",
       "      <td>0.2</td>\n",
       "      <td>Iris-setosa</td>\n",
       "    </tr>\n",
       "    <tr>\n",
       "      <th>2</th>\n",
       "      <td>4.7</td>\n",
       "      <td>3.2</td>\n",
       "      <td>1.3</td>\n",
       "      <td>0.2</td>\n",
       "      <td>Iris-setosa</td>\n",
       "    </tr>\n",
       "    <tr>\n",
       "      <th>3</th>\n",
       "      <td>4.6</td>\n",
       "      <td>3.1</td>\n",
       "      <td>1.5</td>\n",
       "      <td>0.2</td>\n",
       "      <td>Iris-setosa</td>\n",
       "    </tr>\n",
       "    <tr>\n",
       "      <th>4</th>\n",
       "      <td>5.0</td>\n",
       "      <td>3.6</td>\n",
       "      <td>1.4</td>\n",
       "      <td>0.2</td>\n",
       "      <td>Iris-setosa</td>\n",
       "    </tr>\n",
       "    <tr>\n",
       "      <th>...</th>\n",
       "      <td>...</td>\n",
       "      <td>...</td>\n",
       "      <td>...</td>\n",
       "      <td>...</td>\n",
       "      <td>...</td>\n",
       "    </tr>\n",
       "    <tr>\n",
       "      <th>145</th>\n",
       "      <td>6.7</td>\n",
       "      <td>3.0</td>\n",
       "      <td>5.2</td>\n",
       "      <td>2.3</td>\n",
       "      <td>Iris-virginica</td>\n",
       "    </tr>\n",
       "    <tr>\n",
       "      <th>146</th>\n",
       "      <td>6.3</td>\n",
       "      <td>2.5</td>\n",
       "      <td>5.0</td>\n",
       "      <td>1.9</td>\n",
       "      <td>Iris-virginica</td>\n",
       "    </tr>\n",
       "    <tr>\n",
       "      <th>147</th>\n",
       "      <td>6.5</td>\n",
       "      <td>3.0</td>\n",
       "      <td>5.2</td>\n",
       "      <td>2.0</td>\n",
       "      <td>Iris-virginica</td>\n",
       "    </tr>\n",
       "    <tr>\n",
       "      <th>148</th>\n",
       "      <td>6.2</td>\n",
       "      <td>3.4</td>\n",
       "      <td>5.4</td>\n",
       "      <td>2.3</td>\n",
       "      <td>Iris-virginica</td>\n",
       "    </tr>\n",
       "    <tr>\n",
       "      <th>149</th>\n",
       "      <td>5.9</td>\n",
       "      <td>3.0</td>\n",
       "      <td>5.1</td>\n",
       "      <td>1.8</td>\n",
       "      <td>Iris-virginica</td>\n",
       "    </tr>\n",
       "  </tbody>\n",
       "</table>\n",
       "<p>150 rows × 5 columns</p>\n",
       "</div>"
      ],
      "text/plain": [
       "     sepal_length  sepal_width  petal_length  petal_width         species\n",
       "0             5.1          3.5           1.4          0.2     Iris-setosa\n",
       "1             4.9          3.0           1.4          0.2     Iris-setosa\n",
       "2             4.7          3.2           1.3          0.2     Iris-setosa\n",
       "3             4.6          3.1           1.5          0.2     Iris-setosa\n",
       "4             5.0          3.6           1.4          0.2     Iris-setosa\n",
       "..            ...          ...           ...          ...             ...\n",
       "145           6.7          3.0           5.2          2.3  Iris-virginica\n",
       "146           6.3          2.5           5.0          1.9  Iris-virginica\n",
       "147           6.5          3.0           5.2          2.0  Iris-virginica\n",
       "148           6.2          3.4           5.4          2.3  Iris-virginica\n",
       "149           5.9          3.0           5.1          1.8  Iris-virginica\n",
       "\n",
       "[150 rows x 5 columns]"
      ]
     },
     "metadata": {},
     "output_type": "display_data"
    }
   ],
   "source": [
    "display(df)"
   ]
  },
  {
   "cell_type": "code",
   "execution_count": 139,
   "metadata": {},
   "outputs": [
    {
     "data": {
      "text/html": [
       "<div>\n",
       "<style scoped>\n",
       "    .dataframe tbody tr th:only-of-type {\n",
       "        vertical-align: middle;\n",
       "    }\n",
       "\n",
       "    .dataframe tbody tr th {\n",
       "        vertical-align: top;\n",
       "    }\n",
       "\n",
       "    .dataframe thead th {\n",
       "        text-align: right;\n",
       "    }\n",
       "</style>\n",
       "<table border=\"1\" class=\"dataframe\">\n",
       "  <thead>\n",
       "    <tr style=\"text-align: right;\">\n",
       "      <th></th>\n",
       "      <th>sepal_length</th>\n",
       "      <th>sepal_width</th>\n",
       "      <th>petal_length</th>\n",
       "      <th>petal_width</th>\n",
       "    </tr>\n",
       "  </thead>\n",
       "  <tbody>\n",
       "    <tr>\n",
       "      <th>count</th>\n",
       "      <td>150.000000</td>\n",
       "      <td>150.000000</td>\n",
       "      <td>150.000000</td>\n",
       "      <td>150.000000</td>\n",
       "    </tr>\n",
       "    <tr>\n",
       "      <th>mean</th>\n",
       "      <td>5.843333</td>\n",
       "      <td>3.054000</td>\n",
       "      <td>3.758667</td>\n",
       "      <td>1.198667</td>\n",
       "    </tr>\n",
       "    <tr>\n",
       "      <th>std</th>\n",
       "      <td>0.828066</td>\n",
       "      <td>0.433594</td>\n",
       "      <td>1.764420</td>\n",
       "      <td>0.763161</td>\n",
       "    </tr>\n",
       "    <tr>\n",
       "      <th>min</th>\n",
       "      <td>4.300000</td>\n",
       "      <td>2.000000</td>\n",
       "      <td>1.000000</td>\n",
       "      <td>0.100000</td>\n",
       "    </tr>\n",
       "    <tr>\n",
       "      <th>25%</th>\n",
       "      <td>5.100000</td>\n",
       "      <td>2.800000</td>\n",
       "      <td>1.600000</td>\n",
       "      <td>0.300000</td>\n",
       "    </tr>\n",
       "    <tr>\n",
       "      <th>50%</th>\n",
       "      <td>5.800000</td>\n",
       "      <td>3.000000</td>\n",
       "      <td>4.350000</td>\n",
       "      <td>1.300000</td>\n",
       "    </tr>\n",
       "    <tr>\n",
       "      <th>75%</th>\n",
       "      <td>6.400000</td>\n",
       "      <td>3.300000</td>\n",
       "      <td>5.100000</td>\n",
       "      <td>1.800000</td>\n",
       "    </tr>\n",
       "    <tr>\n",
       "      <th>max</th>\n",
       "      <td>7.900000</td>\n",
       "      <td>4.400000</td>\n",
       "      <td>6.900000</td>\n",
       "      <td>2.500000</td>\n",
       "    </tr>\n",
       "  </tbody>\n",
       "</table>\n",
       "</div>"
      ],
      "text/plain": [
       "       sepal_length  sepal_width  petal_length  petal_width\n",
       "count    150.000000   150.000000    150.000000   150.000000\n",
       "mean       5.843333     3.054000      3.758667     1.198667\n",
       "std        0.828066     0.433594      1.764420     0.763161\n",
       "min        4.300000     2.000000      1.000000     0.100000\n",
       "25%        5.100000     2.800000      1.600000     0.300000\n",
       "50%        5.800000     3.000000      4.350000     1.300000\n",
       "75%        6.400000     3.300000      5.100000     1.800000\n",
       "max        7.900000     4.400000      6.900000     2.500000"
      ]
     },
     "execution_count": 139,
     "metadata": {},
     "output_type": "execute_result"
    }
   ],
   "source": [
    "# train_test_split(df.sepal_length,shuffle=False)\n",
    "y = df.sepal_length\n",
    "X_train, X_test, y_train, y_test = train_test_split(df, y, test_size=0.3,shuffle = False)\n",
    "df.describe()"
   ]
  },
  {
   "cell_type": "code",
   "execution_count": 132,
   "metadata": {},
   "outputs": [
    {
     "ename": "AttributeError",
     "evalue": "'DataFrame' object has no attribute 'target'",
     "output_type": "error",
     "traceback": [
      "\u001b[0;31m---------------------------------------------------------------------------\u001b[0m",
      "\u001b[0;31mAttributeError\u001b[0m                            Traceback (most recent call last)",
      "\u001b[0;32m<ipython-input-132-7f01746a7848>\u001b[0m in \u001b[0;36m<module>\u001b[0;34m\u001b[0m\n\u001b[0;32m----> 1\u001b[0;31m \u001b[0mX\u001b[0m\u001b[0;34m,\u001b[0m \u001b[0my\u001b[0m \u001b[0;34m=\u001b[0m \u001b[0mdf\u001b[0m\u001b[0;34m.\u001b[0m\u001b[0msepal_length\u001b[0m\u001b[0;34m,\u001b[0m \u001b[0mdf\u001b[0m\u001b[0;34m.\u001b[0m\u001b[0mtarget\u001b[0m\u001b[0;34m\u001b[0m\u001b[0;34m\u001b[0m\u001b[0m\n\u001b[0m\u001b[1;32m      2\u001b[0m \u001b[0movr\u001b[0m \u001b[0;34m=\u001b[0m \u001b[0mOneVsRestClassifier\u001b[0m\u001b[0;34m(\u001b[0m\u001b[0mLinearSVC\u001b[0m\u001b[0;34m(\u001b[0m\u001b[0mrandom_state\u001b[0m\u001b[0;34m=\u001b[0m\u001b[0;36m0\u001b[0m\u001b[0;34m,\u001b[0m \u001b[0mmulti_class\u001b[0m\u001b[0;34m=\u001b[0m\u001b[0;34m'ovr'\u001b[0m\u001b[0;34m)\u001b[0m\u001b[0;34m)\u001b[0m\u001b[0;34m.\u001b[0m\u001b[0mfit\u001b[0m\u001b[0;34m(\u001b[0m\u001b[0mX\u001b[0m\u001b[0;34m,\u001b[0m \u001b[0my\u001b[0m\u001b[0;34m)\u001b[0m\u001b[0;34m\u001b[0m\u001b[0;34m\u001b[0m\u001b[0m\n",
      "\u001b[0;32m/usr/local/lib/python3.7/site-packages/pandas/core/generic.py\u001b[0m in \u001b[0;36m__getattr__\u001b[0;34m(self, name)\u001b[0m\n\u001b[1;32m   5272\u001b[0m             \u001b[0;32mif\u001b[0m \u001b[0mself\u001b[0m\u001b[0;34m.\u001b[0m\u001b[0m_info_axis\u001b[0m\u001b[0;34m.\u001b[0m\u001b[0m_can_hold_identifiers_and_holds_name\u001b[0m\u001b[0;34m(\u001b[0m\u001b[0mname\u001b[0m\u001b[0;34m)\u001b[0m\u001b[0;34m:\u001b[0m\u001b[0;34m\u001b[0m\u001b[0;34m\u001b[0m\u001b[0m\n\u001b[1;32m   5273\u001b[0m                 \u001b[0;32mreturn\u001b[0m \u001b[0mself\u001b[0m\u001b[0;34m[\u001b[0m\u001b[0mname\u001b[0m\u001b[0;34m]\u001b[0m\u001b[0;34m\u001b[0m\u001b[0;34m\u001b[0m\u001b[0m\n\u001b[0;32m-> 5274\u001b[0;31m             \u001b[0;32mreturn\u001b[0m \u001b[0mobject\u001b[0m\u001b[0;34m.\u001b[0m\u001b[0m__getattribute__\u001b[0m\u001b[0;34m(\u001b[0m\u001b[0mself\u001b[0m\u001b[0;34m,\u001b[0m \u001b[0mname\u001b[0m\u001b[0;34m)\u001b[0m\u001b[0;34m\u001b[0m\u001b[0;34m\u001b[0m\u001b[0m\n\u001b[0m\u001b[1;32m   5275\u001b[0m \u001b[0;34m\u001b[0m\u001b[0m\n\u001b[1;32m   5276\u001b[0m     \u001b[0;32mdef\u001b[0m \u001b[0m__setattr__\u001b[0m\u001b[0;34m(\u001b[0m\u001b[0mself\u001b[0m\u001b[0;34m,\u001b[0m \u001b[0mname\u001b[0m\u001b[0;34m:\u001b[0m \u001b[0mstr\u001b[0m\u001b[0;34m,\u001b[0m \u001b[0mvalue\u001b[0m\u001b[0;34m)\u001b[0m \u001b[0;34m->\u001b[0m \u001b[0;32mNone\u001b[0m\u001b[0;34m:\u001b[0m\u001b[0;34m\u001b[0m\u001b[0;34m\u001b[0m\u001b[0m\n",
      "\u001b[0;31mAttributeError\u001b[0m: 'DataFrame' object has no attribute 'target'"
     ]
    }
   ],
   "source": [
    "X, y = df.sepal_length, df.target\n",
    "ovr = OneVsRestClassifier(LinearSVC(random_state=0, multi_class='ovr')).fit(X, y)"
   ]
  },
  {
   "cell_type": "code",
   "execution_count": null,
   "metadata": {},
   "outputs": [],
   "source": []
  },
  {
   "cell_type": "code",
   "execution_count": 216,
   "metadata": {},
   "outputs": [],
   "source": []
  },
  {
   "cell_type": "code",
   "execution_count": 217,
   "metadata": {},
   "outputs": [],
   "source": [
    "xTrain, xTest, yTrain, yTest = train_test_split(x, y, test_size = 0.3, random_state = 0) #splitting data"
   ]
  },
  {
   "cell_type": "code",
   "execution_count": 218,
   "metadata": {},
   "outputs": [
    {
     "name": "stderr",
     "output_type": "stream",
     "text": [
      "/usr/local/lib/python3.7/site-packages/sklearn/svm/_base.py:977: ConvergenceWarning: Liblinear failed to converge, increase the number of iterations.\n",
      "  \"the number of iterations.\", ConvergenceWarning)\n",
      "/usr/local/lib/python3.7/site-packages/sklearn/svm/_base.py:977: ConvergenceWarning: Liblinear failed to converge, increase the number of iterations.\n",
      "  \"the number of iterations.\", ConvergenceWarning)\n"
     ]
    }
   ],
   "source": []
  },
  {
   "cell_type": "code",
   "execution_count": 251,
   "metadata": {},
   "outputs": [
    {
     "name": "stdout",
     "output_type": "stream",
     "text": [
      "[['Iris-setosa']\n",
      " ['Iris-setosa']\n",
      " ['Iris-setosa']\n",
      " ['Iris-setosa']\n",
      " ['Iris-setosa']\n",
      " ['Iris-setosa']\n",
      " ['Iris-setosa']\n",
      " ['Iris-setosa']\n",
      " ['Iris-setosa']\n",
      " ['Iris-setosa']\n",
      " ['Iris-setosa']\n",
      " ['Iris-setosa']\n",
      " ['Iris-setosa']\n",
      " ['Iris-setosa']\n",
      " ['Iris-setosa']\n",
      " ['Iris-setosa']\n",
      " ['Iris-setosa']\n",
      " ['Iris-setosa']\n",
      " ['Iris-setosa']\n",
      " ['Iris-setosa']\n",
      " ['Iris-setosa']\n",
      " ['Iris-setosa']\n",
      " ['Iris-setosa']\n",
      " ['Iris-setosa']\n",
      " ['Iris-setosa']\n",
      " ['Iris-setosa']\n",
      " ['Iris-setosa']\n",
      " ['Iris-setosa']\n",
      " ['Iris-setosa']\n",
      " ['Iris-setosa']\n",
      " ['Iris-setosa']\n",
      " ['Iris-setosa']\n",
      " ['Iris-setosa']\n",
      " ['Iris-setosa']\n",
      " ['Iris-setosa']\n",
      " ['Iris-setosa']\n",
      " ['Iris-setosa']\n",
      " ['Iris-setosa']\n",
      " ['Iris-setosa']\n",
      " ['Iris-setosa']\n",
      " ['Iris-setosa']\n",
      " ['Iris-setosa']\n",
      " ['Iris-setosa']\n",
      " ['Iris-setosa']\n",
      " ['Iris-setosa']\n",
      " ['Iris-setosa']\n",
      " ['Iris-setosa']\n",
      " ['Iris-setosa']\n",
      " ['Iris-setosa']\n",
      " ['Iris-setosa']\n",
      " ['Iris-versicolor']\n",
      " ['Iris-versicolor']\n",
      " ['Iris-versicolor']\n",
      " ['Iris-versicolor']\n",
      " ['Iris-versicolor']\n",
      " ['Iris-versicolor']\n",
      " ['Iris-versicolor']\n",
      " ['Iris-versicolor']\n",
      " ['Iris-versicolor']\n",
      " ['Iris-versicolor']\n",
      " ['Iris-versicolor']\n",
      " ['Iris-versicolor']\n",
      " ['Iris-versicolor']\n",
      " ['Iris-versicolor']\n",
      " ['Iris-versicolor']\n",
      " ['Iris-versicolor']\n",
      " ['Iris-versicolor']\n",
      " ['Iris-versicolor']\n",
      " ['Iris-versicolor']\n",
      " ['Iris-versicolor']\n",
      " ['Iris-versicolor']\n",
      " ['Iris-versicolor']\n",
      " ['Iris-versicolor']\n",
      " ['Iris-versicolor']\n",
      " ['Iris-versicolor']\n",
      " ['Iris-versicolor']\n",
      " ['Iris-versicolor']\n",
      " ['Iris-versicolor']\n",
      " ['Iris-versicolor']\n",
      " ['Iris-versicolor']\n",
      " ['Iris-versicolor']\n",
      " ['Iris-versicolor']\n",
      " ['Iris-versicolor']\n",
      " ['Iris-versicolor']\n",
      " ['Iris-versicolor']\n",
      " ['Iris-versicolor']\n",
      " ['Iris-versicolor']\n",
      " ['Iris-versicolor']\n",
      " ['Iris-versicolor']\n",
      " ['Iris-versicolor']\n",
      " ['Iris-versicolor']\n",
      " ['Iris-versicolor']\n",
      " ['Iris-versicolor']\n",
      " ['Iris-versicolor']\n",
      " ['Iris-versicolor']\n",
      " ['Iris-versicolor']\n",
      " ['Iris-versicolor']\n",
      " ['Iris-versicolor']\n",
      " ['Iris-versicolor']\n",
      " ['Iris-versicolor']\n",
      " ['Iris-virginica']\n",
      " ['Iris-virginica']\n",
      " ['Iris-virginica']\n",
      " ['Iris-virginica']\n",
      " ['Iris-virginica']\n",
      " ['Iris-virginica']\n",
      " ['Iris-virginica']\n",
      " ['Iris-virginica']\n",
      " ['Iris-virginica']\n",
      " ['Iris-virginica']\n",
      " ['Iris-virginica']\n",
      " ['Iris-virginica']\n",
      " ['Iris-virginica']\n",
      " ['Iris-virginica']\n",
      " ['Iris-virginica']\n",
      " ['Iris-virginica']\n",
      " ['Iris-virginica']\n",
      " ['Iris-virginica']\n",
      " ['Iris-virginica']\n",
      " ['Iris-virginica']\n",
      " ['Iris-virginica']\n",
      " ['Iris-virginica']\n",
      " ['Iris-virginica']\n",
      " ['Iris-virginica']\n",
      " ['Iris-virginica']\n",
      " ['Iris-virginica']\n",
      " ['Iris-virginica']\n",
      " ['Iris-virginica']\n",
      " ['Iris-virginica']\n",
      " ['Iris-virginica']\n",
      " ['Iris-virginica']\n",
      " ['Iris-virginica']\n",
      " ['Iris-virginica']\n",
      " ['Iris-virginica']\n",
      " ['Iris-virginica']\n",
      " ['Iris-virginica']\n",
      " ['Iris-virginica']\n",
      " ['Iris-virginica']\n",
      " ['Iris-virginica']\n",
      " ['Iris-virginica']\n",
      " ['Iris-virginica']\n",
      " ['Iris-virginica']\n",
      " ['Iris-virginica']\n",
      " ['Iris-virginica']\n",
      " ['Iris-virginica']\n",
      " ['Iris-virginica']\n",
      " ['Iris-virginica']\n",
      " ['Iris-virginica']\n",
      " ['Iris-virginica']\n",
      " ['Iris-virginica']]\n"
     ]
    }
   ],
   "source": [
    "x = df.to_numpy()\n",
    "data = x[:,:-1] #iris.data\n",
    "target = x[:,4:] #iris.target\n",
    "X,y = data,target"
   ]
  },
  {
   "cell_type": "code",
   "execution_count": 221,
   "metadata": {},
   "outputs": [
    {
     "name": "stderr",
     "output_type": "stream",
     "text": [
      "/usr/local/lib/python3.7/site-packages/sklearn/svm/_base.py:977: ConvergenceWarning: Liblinear failed to converge, increase the number of iterations.\n",
      "  \"the number of iterations.\", ConvergenceWarning)\n",
      "/usr/local/lib/python3.7/site-packages/sklearn/svm/_base.py:977: ConvergenceWarning: Liblinear failed to converge, increase the number of iterations.\n",
      "  \"the number of iterations.\", ConvergenceWarning)\n"
     ]
    },
    {
     "data": {
      "text/plain": [
       "array(['Iris-setosa', 'Iris-setosa', 'Iris-setosa', 'Iris-setosa',\n",
       "       'Iris-setosa', 'Iris-setosa', 'Iris-setosa', 'Iris-setosa',\n",
       "       'Iris-setosa', 'Iris-setosa', 'Iris-setosa', 'Iris-setosa',\n",
       "       'Iris-setosa', 'Iris-setosa', 'Iris-setosa', 'Iris-setosa',\n",
       "       'Iris-setosa', 'Iris-setosa', 'Iris-setosa', 'Iris-setosa',\n",
       "       'Iris-setosa', 'Iris-setosa', 'Iris-setosa', 'Iris-setosa',\n",
       "       'Iris-setosa', 'Iris-setosa', 'Iris-setosa', 'Iris-setosa',\n",
       "       'Iris-setosa', 'Iris-setosa', 'Iris-setosa', 'Iris-setosa',\n",
       "       'Iris-setosa', 'Iris-setosa', 'Iris-setosa', 'Iris-setosa',\n",
       "       'Iris-setosa', 'Iris-setosa', 'Iris-setosa', 'Iris-setosa',\n",
       "       'Iris-setosa', 'Iris-setosa', 'Iris-setosa', 'Iris-setosa',\n",
       "       'Iris-setosa', 'Iris-setosa', 'Iris-setosa', 'Iris-setosa',\n",
       "       'Iris-setosa', 'Iris-setosa', 'Iris-versicolor', 'Iris-versicolor',\n",
       "       'Iris-versicolor', 'Iris-versicolor', 'Iris-versicolor',\n",
       "       'Iris-versicolor', 'Iris-versicolor', 'Iris-versicolor',\n",
       "       'Iris-versicolor', 'Iris-versicolor', 'Iris-versicolor',\n",
       "       'Iris-versicolor', 'Iris-versicolor', 'Iris-versicolor',\n",
       "       'Iris-versicolor', 'Iris-versicolor', 'Iris-versicolor',\n",
       "       'Iris-versicolor', 'Iris-versicolor', 'Iris-versicolor',\n",
       "       'Iris-virginica', 'Iris-versicolor', 'Iris-versicolor',\n",
       "       'Iris-versicolor', 'Iris-versicolor', 'Iris-versicolor',\n",
       "       'Iris-versicolor', 'Iris-versicolor', 'Iris-versicolor',\n",
       "       'Iris-versicolor', 'Iris-versicolor', 'Iris-versicolor',\n",
       "       'Iris-versicolor', 'Iris-virginica', 'Iris-virginica',\n",
       "       'Iris-versicolor', 'Iris-versicolor', 'Iris-versicolor',\n",
       "       'Iris-versicolor', 'Iris-versicolor', 'Iris-versicolor',\n",
       "       'Iris-versicolor', 'Iris-versicolor', 'Iris-versicolor',\n",
       "       'Iris-versicolor', 'Iris-versicolor', 'Iris-versicolor',\n",
       "       'Iris-versicolor', 'Iris-versicolor', 'Iris-versicolor',\n",
       "       'Iris-virginica', 'Iris-virginica', 'Iris-virginica',\n",
       "       'Iris-virginica', 'Iris-virginica', 'Iris-virginica',\n",
       "       'Iris-virginica', 'Iris-virginica', 'Iris-virginica',\n",
       "       'Iris-virginica', 'Iris-virginica', 'Iris-virginica',\n",
       "       'Iris-virginica', 'Iris-virginica', 'Iris-virginica',\n",
       "       'Iris-virginica', 'Iris-virginica', 'Iris-virginica',\n",
       "       'Iris-virginica', 'Iris-virginica', 'Iris-virginica',\n",
       "       'Iris-virginica', 'Iris-virginica', 'Iris-virginica',\n",
       "       'Iris-virginica', 'Iris-virginica', 'Iris-virginica',\n",
       "       'Iris-virginica', 'Iris-virginica', 'Iris-versicolor',\n",
       "       'Iris-virginica', 'Iris-virginica', 'Iris-virginica',\n",
       "       'Iris-versicolor', 'Iris-virginica', 'Iris-virginica',\n",
       "       'Iris-virginica', 'Iris-virginica', 'Iris-virginica',\n",
       "       'Iris-virginica', 'Iris-virginica', 'Iris-virginica',\n",
       "       'Iris-virginica', 'Iris-virginica', 'Iris-virginica',\n",
       "       'Iris-virginica', 'Iris-virginica', 'Iris-virginica',\n",
       "       'Iris-virginica', 'Iris-virginica'], dtype='<U15')"
      ]
     },
     "execution_count": 221,
     "metadata": {},
     "output_type": "execute_result"
    }
   ],
   "source": [
    "ovr = OneVsRestClassifier(LinearSVC(random_state=0, multi_class='ovr')).fit(X, y)\n",
    "ovr.predict(X) #predict species"
   ]
  },
  {
   "cell_type": "code",
   "execution_count": 255,
   "metadata": {},
   "outputs": [
    {
     "name": "stdout",
     "output_type": "stream",
     "text": [
      "<class 'float'>\n",
      "<class 'float'>\n",
      "<class 'float'>\n",
      "<class 'float'>\n",
      "<class 'float'>\n",
      "<class 'float'>\n",
      "<class 'float'>\n",
      "<class 'float'>\n",
      "<class 'float'>\n",
      "<class 'float'>\n",
      "<class 'float'>\n",
      "<class 'float'>\n",
      "<class 'float'>\n",
      "<class 'float'>\n",
      "<class 'float'>\n",
      "<class 'float'>\n",
      "<class 'float'>\n",
      "<class 'float'>\n",
      "<class 'float'>\n",
      "<class 'float'>\n",
      "<class 'float'>\n",
      "<class 'float'>\n",
      "<class 'float'>\n",
      "<class 'float'>\n",
      "<class 'float'>\n",
      "<class 'float'>\n",
      "<class 'float'>\n",
      "<class 'float'>\n",
      "<class 'float'>\n",
      "<class 'float'>\n",
      "<class 'float'>\n",
      "<class 'float'>\n",
      "<class 'float'>\n",
      "<class 'float'>\n",
      "<class 'float'>\n",
      "<class 'float'>\n",
      "<class 'float'>\n",
      "<class 'float'>\n",
      "<class 'float'>\n",
      "<class 'float'>\n",
      "<class 'float'>\n",
      "<class 'float'>\n",
      "<class 'float'>\n",
      "<class 'float'>\n",
      "<class 'float'>\n",
      "<class 'float'>\n",
      "<class 'float'>\n",
      "<class 'float'>\n",
      "<class 'float'>\n",
      "<class 'float'>\n",
      "<class 'float'>\n",
      "<class 'float'>\n",
      "<class 'float'>\n",
      "<class 'float'>\n",
      "<class 'float'>\n",
      "<class 'float'>\n",
      "<class 'float'>\n",
      "<class 'float'>\n",
      "<class 'float'>\n",
      "<class 'float'>\n",
      "<class 'float'>\n",
      "<class 'float'>\n",
      "<class 'float'>\n",
      "<class 'float'>\n",
      "<class 'float'>\n",
      "<class 'float'>\n",
      "<class 'float'>\n",
      "<class 'float'>\n",
      "<class 'float'>\n",
      "<class 'float'>\n",
      "<class 'float'>\n",
      "<class 'float'>\n",
      "<class 'float'>\n",
      "<class 'float'>\n",
      "<class 'float'>\n",
      "<class 'float'>\n",
      "<class 'float'>\n",
      "<class 'float'>\n",
      "<class 'float'>\n",
      "<class 'float'>\n",
      "<class 'float'>\n",
      "<class 'float'>\n",
      "<class 'float'>\n",
      "<class 'float'>\n",
      "<class 'float'>\n",
      "<class 'float'>\n",
      "<class 'float'>\n",
      "<class 'float'>\n",
      "<class 'float'>\n",
      "<class 'float'>\n",
      "<class 'float'>\n",
      "<class 'float'>\n",
      "<class 'float'>\n",
      "<class 'float'>\n",
      "<class 'float'>\n",
      "<class 'float'>\n",
      "<class 'float'>\n",
      "<class 'float'>\n",
      "<class 'float'>\n",
      "<class 'float'>\n",
      "<class 'float'>\n",
      "<class 'float'>\n",
      "<class 'float'>\n",
      "<class 'float'>\n",
      "<class 'float'>\n",
      "<class 'float'>\n",
      "<class 'float'>\n",
      "<class 'float'>\n",
      "<class 'float'>\n",
      "<class 'float'>\n",
      "<class 'float'>\n",
      "<class 'float'>\n",
      "<class 'float'>\n",
      "<class 'float'>\n",
      "<class 'float'>\n",
      "<class 'float'>\n",
      "<class 'float'>\n",
      "<class 'float'>\n",
      "<class 'float'>\n",
      "<class 'float'>\n",
      "<class 'float'>\n",
      "<class 'float'>\n",
      "<class 'float'>\n",
      "<class 'float'>\n",
      "<class 'float'>\n",
      "<class 'float'>\n",
      "<class 'float'>\n",
      "<class 'float'>\n",
      "<class 'float'>\n",
      "<class 'float'>\n",
      "<class 'float'>\n",
      "<class 'float'>\n",
      "<class 'float'>\n",
      "<class 'float'>\n",
      "<class 'float'>\n",
      "<class 'float'>\n",
      "<class 'float'>\n",
      "<class 'float'>\n",
      "<class 'float'>\n",
      "<class 'float'>\n",
      "<class 'float'>\n",
      "<class 'float'>\n",
      "<class 'float'>\n",
      "<class 'float'>\n",
      "<class 'float'>\n",
      "<class 'float'>\n",
      "<class 'float'>\n",
      "<class 'float'>\n",
      "<class 'float'>\n",
      "<class 'float'>\n"
     ]
    },
    {
     "ename": "ValueError",
     "evalue": "Unknown label type: (array([[5.1],\n       [4.9],\n       [4.7],\n       [4.6],\n       [5.0],\n       [5.4],\n       [4.6],\n       [5.0],\n       [4.4],\n       [4.9],\n       [5.4],\n       [4.8],\n       [4.8],\n       [4.3],\n       [5.8],\n       [5.7],\n       [5.4],\n       [5.1],\n       [5.7],\n       [5.1],\n       [5.4],\n       [5.1],\n       [4.6],\n       [5.1],\n       [4.8],\n       [5.0],\n       [5.0],\n       [5.2],\n       [5.2],\n       [4.7],\n       [4.8],\n       [5.4],\n       [5.2],\n       [5.5],\n       [4.9],\n       [5.0],\n       [5.5],\n       [4.9],\n       [4.4],\n       [5.1],\n       [5.0],\n       [4.5],\n       [4.4],\n       [5.0],\n       [5.1],\n       [4.8],\n       [5.1],\n       [4.6],\n       [5.3],\n       [5.0],\n       [7.0],\n       [6.4],\n       [6.9],\n       [5.5],\n       [6.5],\n       [5.7],\n       [6.3],\n       [4.9],\n       [6.6],\n       [5.2],\n       [5.0],\n       [5.9],\n       [6.0],\n       [6.1],\n       [5.6],\n       [6.7],\n       [5.6],\n       [5.8],\n       [6.2],\n       [5.6],\n       [5.9],\n       [6.1],\n       [6.3],\n       [6.1],\n       [6.4],\n       [6.6],\n       [6.8],\n       [6.7],\n       [6.0],\n       [5.7],\n       [5.5],\n       [5.5],\n       [5.8],\n       [6.0],\n       [5.4],\n       [6.0],\n       [6.7],\n       [6.3],\n       [5.6],\n       [5.5],\n       [5.5],\n       [6.1],\n       [5.8],\n       [5.0],\n       [5.6],\n       [5.7],\n       [5.7],\n       [6.2],\n       [5.1],\n       [5.7],\n       [6.3],\n       [5.8],\n       [7.1],\n       [6.3],\n       [6.5],\n       [7.6],\n       [4.9],\n       [7.3],\n       [6.7],\n       [7.2],\n       [6.5],\n       [6.4],\n       [6.8],\n       [5.7],\n       [5.8],\n       [6.4],\n       [6.5],\n       [7.7],\n       [7.7],\n       [6.0],\n       [6.9],\n       [5.6],\n       [7.7],\n       [6.3],\n       [6.7],\n       [7.2],\n       [6.2],\n       [6.1],\n       [6.4],\n       [7.2],\n       [7.4],\n       [7.9],\n       [6.4],\n       [6.3],\n       [6.1],\n       [7.7],\n       [6.3],\n       [6.4],\n       [6.0],\n       [6.9],\n       [6.7],\n       [6.9],\n       [5.8],\n       [6.8],\n       [6.7],\n       [6.7],\n       [6.3],\n       [6.5],\n       [6.2],\n       [5.9]], dtype=object),)",
     "output_type": "error",
     "traceback": [
      "\u001b[0;31m---------------------------------------------------------------------------\u001b[0m",
      "\u001b[0;31mValueError\u001b[0m                                Traceback (most recent call last)",
      "\u001b[0;32m<ipython-input-255-3edb6243b878>\u001b[0m in \u001b[0;36m<module>\u001b[0;34m\u001b[0m\n\u001b[1;32m     12\u001b[0m     \u001b[0mprint\u001b[0m\u001b[0;34m(\u001b[0m\u001b[0mtype\u001b[0m\u001b[0;34m(\u001b[0m\u001b[0mtargetTwo\u001b[0m\u001b[0;34m[\u001b[0m\u001b[0mi\u001b[0m\u001b[0;34m]\u001b[0m\u001b[0;34m[\u001b[0m\u001b[0;36m0\u001b[0m\u001b[0;34m]\u001b[0m\u001b[0;34m)\u001b[0m\u001b[0;34m)\u001b[0m\u001b[0;34m\u001b[0m\u001b[0;34m\u001b[0m\u001b[0m\n\u001b[1;32m     13\u001b[0m \u001b[0mXTwo\u001b[0m\u001b[0;34m,\u001b[0m\u001b[0myTwo\u001b[0m \u001b[0;34m=\u001b[0m \u001b[0mdataTwo\u001b[0m\u001b[0;34m,\u001b[0m\u001b[0mtargetTwo\u001b[0m\u001b[0;34m\u001b[0m\u001b[0;34m\u001b[0m\u001b[0m\n\u001b[0;32m---> 14\u001b[0;31m \u001b[0movrTwo\u001b[0m \u001b[0;34m=\u001b[0m \u001b[0mOneVsRestClassifier\u001b[0m\u001b[0;34m(\u001b[0m\u001b[0mLinearSVC\u001b[0m\u001b[0;34m(\u001b[0m\u001b[0mrandom_state\u001b[0m\u001b[0;34m=\u001b[0m\u001b[0;36m0\u001b[0m\u001b[0;34m,\u001b[0m \u001b[0mmulti_class\u001b[0m\u001b[0;34m=\u001b[0m\u001b[0;34m'ovr'\u001b[0m\u001b[0;34m)\u001b[0m\u001b[0;34m)\u001b[0m\u001b[0;34m.\u001b[0m\u001b[0mfit\u001b[0m\u001b[0;34m(\u001b[0m\u001b[0mXTwo\u001b[0m\u001b[0;34m,\u001b[0m \u001b[0myTwo\u001b[0m\u001b[0;34m)\u001b[0m\u001b[0;34m\u001b[0m\u001b[0;34m\u001b[0m\u001b[0m\n\u001b[0m\u001b[1;32m     15\u001b[0m \u001b[0movrTwo\u001b[0m\u001b[0;34m.\u001b[0m\u001b[0mpredict\u001b[0m\u001b[0;34m(\u001b[0m\u001b[0mXTwo\u001b[0m\u001b[0;34m)\u001b[0m\u001b[0;34m\u001b[0m\u001b[0;34m\u001b[0m\u001b[0m\n",
      "\u001b[0;32m/usr/local/lib/python3.7/site-packages/sklearn/multiclass.py\u001b[0m in \u001b[0;36mfit\u001b[0;34m(self, X, y)\u001b[0m\n\u001b[1;32m    232\u001b[0m         \u001b[0;31m# overall.\u001b[0m\u001b[0;34m\u001b[0m\u001b[0;34m\u001b[0m\u001b[0;34m\u001b[0m\u001b[0m\n\u001b[1;32m    233\u001b[0m         \u001b[0mself\u001b[0m\u001b[0;34m.\u001b[0m\u001b[0mlabel_binarizer_\u001b[0m \u001b[0;34m=\u001b[0m \u001b[0mLabelBinarizer\u001b[0m\u001b[0;34m(\u001b[0m\u001b[0msparse_output\u001b[0m\u001b[0;34m=\u001b[0m\u001b[0;32mTrue\u001b[0m\u001b[0;34m)\u001b[0m\u001b[0;34m\u001b[0m\u001b[0;34m\u001b[0m\u001b[0m\n\u001b[0;32m--> 234\u001b[0;31m         \u001b[0mY\u001b[0m \u001b[0;34m=\u001b[0m \u001b[0mself\u001b[0m\u001b[0;34m.\u001b[0m\u001b[0mlabel_binarizer_\u001b[0m\u001b[0;34m.\u001b[0m\u001b[0mfit_transform\u001b[0m\u001b[0;34m(\u001b[0m\u001b[0my\u001b[0m\u001b[0;34m)\u001b[0m\u001b[0;34m\u001b[0m\u001b[0;34m\u001b[0m\u001b[0m\n\u001b[0m\u001b[1;32m    235\u001b[0m         \u001b[0mY\u001b[0m \u001b[0;34m=\u001b[0m \u001b[0mY\u001b[0m\u001b[0;34m.\u001b[0m\u001b[0mtocsc\u001b[0m\u001b[0;34m(\u001b[0m\u001b[0;34m)\u001b[0m\u001b[0;34m\u001b[0m\u001b[0;34m\u001b[0m\u001b[0m\n\u001b[1;32m    236\u001b[0m         \u001b[0mself\u001b[0m\u001b[0;34m.\u001b[0m\u001b[0mclasses_\u001b[0m \u001b[0;34m=\u001b[0m \u001b[0mself\u001b[0m\u001b[0;34m.\u001b[0m\u001b[0mlabel_binarizer_\u001b[0m\u001b[0;34m.\u001b[0m\u001b[0mclasses_\u001b[0m\u001b[0;34m\u001b[0m\u001b[0;34m\u001b[0m\u001b[0m\n",
      "\u001b[0;32m/usr/local/lib/python3.7/site-packages/sklearn/preprocessing/_label.py\u001b[0m in \u001b[0;36mfit_transform\u001b[0;34m(self, y)\u001b[0m\n\u001b[1;32m    458\u001b[0m             \u001b[0mShape\u001b[0m \u001b[0mwill\u001b[0m \u001b[0mbe\u001b[0m \u001b[0;34m[\u001b[0m\u001b[0mn_samples\u001b[0m\u001b[0;34m,\u001b[0m \u001b[0;36m1\u001b[0m\u001b[0;34m]\u001b[0m \u001b[0;32mfor\u001b[0m \u001b[0mbinary\u001b[0m \u001b[0mproblems\u001b[0m\u001b[0;34m.\u001b[0m\u001b[0;34m\u001b[0m\u001b[0;34m\u001b[0m\u001b[0m\n\u001b[1;32m    459\u001b[0m         \"\"\"\n\u001b[0;32m--> 460\u001b[0;31m         \u001b[0;32mreturn\u001b[0m \u001b[0mself\u001b[0m\u001b[0;34m.\u001b[0m\u001b[0mfit\u001b[0m\u001b[0;34m(\u001b[0m\u001b[0my\u001b[0m\u001b[0;34m)\u001b[0m\u001b[0;34m.\u001b[0m\u001b[0mtransform\u001b[0m\u001b[0;34m(\u001b[0m\u001b[0my\u001b[0m\u001b[0;34m)\u001b[0m\u001b[0;34m\u001b[0m\u001b[0;34m\u001b[0m\u001b[0m\n\u001b[0m\u001b[1;32m    461\u001b[0m \u001b[0;34m\u001b[0m\u001b[0m\n\u001b[1;32m    462\u001b[0m     \u001b[0;32mdef\u001b[0m \u001b[0mtransform\u001b[0m\u001b[0;34m(\u001b[0m\u001b[0mself\u001b[0m\u001b[0;34m,\u001b[0m \u001b[0my\u001b[0m\u001b[0;34m)\u001b[0m\u001b[0;34m:\u001b[0m\u001b[0;34m\u001b[0m\u001b[0;34m\u001b[0m\u001b[0m\n",
      "\u001b[0;32m/usr/local/lib/python3.7/site-packages/sklearn/preprocessing/_label.py\u001b[0m in \u001b[0;36mfit\u001b[0;34m(self, y)\u001b[0m\n\u001b[1;32m    435\u001b[0m \u001b[0;34m\u001b[0m\u001b[0m\n\u001b[1;32m    436\u001b[0m         \u001b[0mself\u001b[0m\u001b[0;34m.\u001b[0m\u001b[0msparse_input_\u001b[0m \u001b[0;34m=\u001b[0m \u001b[0msp\u001b[0m\u001b[0;34m.\u001b[0m\u001b[0missparse\u001b[0m\u001b[0;34m(\u001b[0m\u001b[0my\u001b[0m\u001b[0;34m)\u001b[0m\u001b[0;34m\u001b[0m\u001b[0;34m\u001b[0m\u001b[0m\n\u001b[0;32m--> 437\u001b[0;31m         \u001b[0mself\u001b[0m\u001b[0;34m.\u001b[0m\u001b[0mclasses_\u001b[0m \u001b[0;34m=\u001b[0m \u001b[0munique_labels\u001b[0m\u001b[0;34m(\u001b[0m\u001b[0my\u001b[0m\u001b[0;34m)\u001b[0m\u001b[0;34m\u001b[0m\u001b[0;34m\u001b[0m\u001b[0m\n\u001b[0m\u001b[1;32m    438\u001b[0m         \u001b[0;32mreturn\u001b[0m \u001b[0mself\u001b[0m\u001b[0;34m\u001b[0m\u001b[0;34m\u001b[0m\u001b[0m\n\u001b[1;32m    439\u001b[0m \u001b[0;34m\u001b[0m\u001b[0m\n",
      "\u001b[0;32m/usr/local/lib/python3.7/site-packages/sklearn/utils/multiclass.py\u001b[0m in \u001b[0;36munique_labels\u001b[0;34m(*ys)\u001b[0m\n\u001b[1;32m     95\u001b[0m     \u001b[0m_unique_labels\u001b[0m \u001b[0;34m=\u001b[0m \u001b[0m_FN_UNIQUE_LABELS\u001b[0m\u001b[0;34m.\u001b[0m\u001b[0mget\u001b[0m\u001b[0;34m(\u001b[0m\u001b[0mlabel_type\u001b[0m\u001b[0;34m,\u001b[0m \u001b[0;32mNone\u001b[0m\u001b[0;34m)\u001b[0m\u001b[0;34m\u001b[0m\u001b[0;34m\u001b[0m\u001b[0m\n\u001b[1;32m     96\u001b[0m     \u001b[0;32mif\u001b[0m \u001b[0;32mnot\u001b[0m \u001b[0m_unique_labels\u001b[0m\u001b[0;34m:\u001b[0m\u001b[0;34m\u001b[0m\u001b[0;34m\u001b[0m\u001b[0m\n\u001b[0;32m---> 97\u001b[0;31m         \u001b[0;32mraise\u001b[0m \u001b[0mValueError\u001b[0m\u001b[0;34m(\u001b[0m\u001b[0;34m\"Unknown label type: %s\"\u001b[0m \u001b[0;34m%\u001b[0m \u001b[0mrepr\u001b[0m\u001b[0;34m(\u001b[0m\u001b[0mys\u001b[0m\u001b[0;34m)\u001b[0m\u001b[0;34m)\u001b[0m\u001b[0;34m\u001b[0m\u001b[0;34m\u001b[0m\u001b[0m\n\u001b[0m\u001b[1;32m     98\u001b[0m \u001b[0;34m\u001b[0m\u001b[0m\n\u001b[1;32m     99\u001b[0m     \u001b[0mys_labels\u001b[0m \u001b[0;34m=\u001b[0m \u001b[0mset\u001b[0m\u001b[0;34m(\u001b[0m\u001b[0mchain\u001b[0m\u001b[0;34m.\u001b[0m\u001b[0mfrom_iterable\u001b[0m\u001b[0;34m(\u001b[0m\u001b[0m_unique_labels\u001b[0m\u001b[0;34m(\u001b[0m\u001b[0my\u001b[0m\u001b[0;34m)\u001b[0m \u001b[0;32mfor\u001b[0m \u001b[0my\u001b[0m \u001b[0;32min\u001b[0m \u001b[0mys\u001b[0m\u001b[0;34m)\u001b[0m\u001b[0;34m)\u001b[0m\u001b[0;34m\u001b[0m\u001b[0;34m\u001b[0m\u001b[0m\n",
      "\u001b[0;31mValueError\u001b[0m: Unknown label type: (array([[5.1],\n       [4.9],\n       [4.7],\n       [4.6],\n       [5.0],\n       [5.4],\n       [4.6],\n       [5.0],\n       [4.4],\n       [4.9],\n       [5.4],\n       [4.8],\n       [4.8],\n       [4.3],\n       [5.8],\n       [5.7],\n       [5.4],\n       [5.1],\n       [5.7],\n       [5.1],\n       [5.4],\n       [5.1],\n       [4.6],\n       [5.1],\n       [4.8],\n       [5.0],\n       [5.0],\n       [5.2],\n       [5.2],\n       [4.7],\n       [4.8],\n       [5.4],\n       [5.2],\n       [5.5],\n       [4.9],\n       [5.0],\n       [5.5],\n       [4.9],\n       [4.4],\n       [5.1],\n       [5.0],\n       [4.5],\n       [4.4],\n       [5.0],\n       [5.1],\n       [4.8],\n       [5.1],\n       [4.6],\n       [5.3],\n       [5.0],\n       [7.0],\n       [6.4],\n       [6.9],\n       [5.5],\n       [6.5],\n       [5.7],\n       [6.3],\n       [4.9],\n       [6.6],\n       [5.2],\n       [5.0],\n       [5.9],\n       [6.0],\n       [6.1],\n       [5.6],\n       [6.7],\n       [5.6],\n       [5.8],\n       [6.2],\n       [5.6],\n       [5.9],\n       [6.1],\n       [6.3],\n       [6.1],\n       [6.4],\n       [6.6],\n       [6.8],\n       [6.7],\n       [6.0],\n       [5.7],\n       [5.5],\n       [5.5],\n       [5.8],\n       [6.0],\n       [5.4],\n       [6.0],\n       [6.7],\n       [6.3],\n       [5.6],\n       [5.5],\n       [5.5],\n       [6.1],\n       [5.8],\n       [5.0],\n       [5.6],\n       [5.7],\n       [5.7],\n       [6.2],\n       [5.1],\n       [5.7],\n       [6.3],\n       [5.8],\n       [7.1],\n       [6.3],\n       [6.5],\n       [7.6],\n       [4.9],\n       [7.3],\n       [6.7],\n       [7.2],\n       [6.5],\n       [6.4],\n       [6.8],\n       [5.7],\n       [5.8],\n       [6.4],\n       [6.5],\n       [7.7],\n       [7.7],\n       [6.0],\n       [6.9],\n       [5.6],\n       [7.7],\n       [6.3],\n       [6.7],\n       [7.2],\n       [6.2],\n       [6.1],\n       [6.4],\n       [7.2],\n       [7.4],\n       [7.9],\n       [6.4],\n       [6.3],\n       [6.1],\n       [7.7],\n       [6.3],\n       [6.4],\n       [6.0],\n       [6.9],\n       [6.7],\n       [6.9],\n       [5.8],\n       [6.8],\n       [6.7],\n       [6.7],\n       [6.3],\n       [6.5],\n       [6.2],\n       [5.9]], dtype=object),)"
     ]
    }
   ],
   "source": [
    "two = df.to_numpy()\n",
    "for i in range(len(two)):\n",
    "    if (two[i][4] == 'Iris-virginica'):\n",
    "        two[i][4] = 0\n",
    "    elif (two[i][4] == 'Iris-versicolor'):\n",
    "        two[i][4] = 1\n",
    "    else:\n",
    "        two[i][4] = 2\n",
    "dataTwo = two[:,1:]\n",
    "targetTwo = two[:,:1]\n",
    "for i in range(len(targetTwo)):\n",
    "    print(type(targetTwo[i][0]))\n",
    "XTwo,yTwo = dataTwo,targetTwo\n",
    "ovrTwo = OneVsRestClassifier(LinearSVC(random_state=0, multi_class='ovr')).fit(XTwo, yTwo)\n",
    "ovrTwo.predict(XTwo)"
   ]
  },
  {
   "cell_type": "code",
   "execution_count": null,
   "metadata": {},
   "outputs": [],
   "source": []
  }
 ],
 "metadata": {
  "kernelspec": {
   "display_name": "Python 3",
   "language": "python",
   "name": "python3"
  },
  "language_info": {
   "codemirror_mode": {
    "name": "ipython",
    "version": 3
   },
   "file_extension": ".py",
   "mimetype": "text/x-python",
   "name": "python",
   "nbconvert_exporter": "python",
   "pygments_lexer": "ipython3",
   "version": "3.7.6"
  },
  "toc": {
   "base_numbering": 1,
   "nav_menu": {},
   "number_sections": true,
   "sideBar": true,
   "skip_h1_title": false,
   "title_cell": "Table of Contents",
   "title_sidebar": "Contents",
   "toc_cell": false,
   "toc_position": {},
   "toc_section_display": true,
   "toc_window_display": true
  }
 },
 "nbformat": 4,
 "nbformat_minor": 4
}
